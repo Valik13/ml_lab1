{
 "cells": [
  {
   "cell_type": "code",
   "execution_count": 1,
   "id": "2d94be4f",
   "metadata": {},
   "outputs": [],
   "source": [
    "import pandas as pd\n",
    "import matplotlib.pyplot as plt\n",
    "import seaborn as sns\n",
    "from sklearn.impute import SimpleImputer\n",
    "from sklearn.preprocessing import StandardScaler\n",
    "from sklearn.model_selection import train_test_split, GridSearchCV\n",
    "from sklearn.neighbors import KNeighborsClassifier\n",
    "from sklearn.tree import DecisionTreeClassifier\n",
    "from sklearn.svm import SVC\n",
    "from sklearn.ensemble import RandomForestClassifier, AdaBoostClassifier\n",
    "from sklearn.metrics import classification_report, confusion_matrix"
   ]
  },
  {
   "cell_type": "code",
   "execution_count": 17,
   "id": "914da5ae",
   "metadata": {},
   "outputs": [],
   "source": [
    "data = pd.read_csv('exams.csv')"
   ]
  },
  {
   "cell_type": "code",
   "execution_count": 19,
   "id": "6afc91e6",
   "metadata": {},
   "outputs": [
    {
     "data": {
      "text/html": [
       "<div>\n",
       "<style scoped>\n",
       "    .dataframe tbody tr th:only-of-type {\n",
       "        vertical-align: middle;\n",
       "    }\n",
       "\n",
       "    .dataframe tbody tr th {\n",
       "        vertical-align: top;\n",
       "    }\n",
       "\n",
       "    .dataframe thead th {\n",
       "        text-align: right;\n",
       "    }\n",
       "</style>\n",
       "<table border=\"1\" class=\"dataframe\">\n",
       "  <thead>\n",
       "    <tr style=\"text-align: right;\">\n",
       "      <th></th>\n",
       "      <th>gender</th>\n",
       "      <th>race/ethnicity</th>\n",
       "      <th>parental level of education</th>\n",
       "      <th>lunch</th>\n",
       "      <th>test preparation course</th>\n",
       "      <th>math score</th>\n",
       "      <th>reading score</th>\n",
       "      <th>writing score</th>\n",
       "    </tr>\n",
       "  </thead>\n",
       "  <tbody>\n",
       "    <tr>\n",
       "      <th>0</th>\n",
       "      <td>female</td>\n",
       "      <td>group D</td>\n",
       "      <td>some college</td>\n",
       "      <td>standard</td>\n",
       "      <td>completed</td>\n",
       "      <td>59</td>\n",
       "      <td>70</td>\n",
       "      <td>78</td>\n",
       "    </tr>\n",
       "    <tr>\n",
       "      <th>1</th>\n",
       "      <td>male</td>\n",
       "      <td>group D</td>\n",
       "      <td>associate's degree</td>\n",
       "      <td>standard</td>\n",
       "      <td>none</td>\n",
       "      <td>96</td>\n",
       "      <td>93</td>\n",
       "      <td>87</td>\n",
       "    </tr>\n",
       "    <tr>\n",
       "      <th>2</th>\n",
       "      <td>female</td>\n",
       "      <td>group D</td>\n",
       "      <td>some college</td>\n",
       "      <td>free/reduced</td>\n",
       "      <td>none</td>\n",
       "      <td>57</td>\n",
       "      <td>76</td>\n",
       "      <td>77</td>\n",
       "    </tr>\n",
       "    <tr>\n",
       "      <th>3</th>\n",
       "      <td>male</td>\n",
       "      <td>group B</td>\n",
       "      <td>some college</td>\n",
       "      <td>free/reduced</td>\n",
       "      <td>none</td>\n",
       "      <td>70</td>\n",
       "      <td>70</td>\n",
       "      <td>63</td>\n",
       "    </tr>\n",
       "    <tr>\n",
       "      <th>4</th>\n",
       "      <td>female</td>\n",
       "      <td>group D</td>\n",
       "      <td>associate's degree</td>\n",
       "      <td>standard</td>\n",
       "      <td>none</td>\n",
       "      <td>83</td>\n",
       "      <td>85</td>\n",
       "      <td>86</td>\n",
       "    </tr>\n",
       "    <tr>\n",
       "      <th>...</th>\n",
       "      <td>...</td>\n",
       "      <td>...</td>\n",
       "      <td>...</td>\n",
       "      <td>...</td>\n",
       "      <td>...</td>\n",
       "      <td>...</td>\n",
       "      <td>...</td>\n",
       "      <td>...</td>\n",
       "    </tr>\n",
       "    <tr>\n",
       "      <th>995</th>\n",
       "      <td>male</td>\n",
       "      <td>group C</td>\n",
       "      <td>some college</td>\n",
       "      <td>standard</td>\n",
       "      <td>none</td>\n",
       "      <td>77</td>\n",
       "      <td>77</td>\n",
       "      <td>71</td>\n",
       "    </tr>\n",
       "    <tr>\n",
       "      <th>996</th>\n",
       "      <td>male</td>\n",
       "      <td>group C</td>\n",
       "      <td>some college</td>\n",
       "      <td>standard</td>\n",
       "      <td>none</td>\n",
       "      <td>80</td>\n",
       "      <td>66</td>\n",
       "      <td>66</td>\n",
       "    </tr>\n",
       "    <tr>\n",
       "      <th>997</th>\n",
       "      <td>female</td>\n",
       "      <td>group A</td>\n",
       "      <td>high school</td>\n",
       "      <td>standard</td>\n",
       "      <td>completed</td>\n",
       "      <td>67</td>\n",
       "      <td>86</td>\n",
       "      <td>86</td>\n",
       "    </tr>\n",
       "    <tr>\n",
       "      <th>998</th>\n",
       "      <td>male</td>\n",
       "      <td>group E</td>\n",
       "      <td>high school</td>\n",
       "      <td>standard</td>\n",
       "      <td>none</td>\n",
       "      <td>80</td>\n",
       "      <td>72</td>\n",
       "      <td>62</td>\n",
       "    </tr>\n",
       "    <tr>\n",
       "      <th>999</th>\n",
       "      <td>male</td>\n",
       "      <td>group D</td>\n",
       "      <td>high school</td>\n",
       "      <td>standard</td>\n",
       "      <td>none</td>\n",
       "      <td>58</td>\n",
       "      <td>47</td>\n",
       "      <td>45</td>\n",
       "    </tr>\n",
       "  </tbody>\n",
       "</table>\n",
       "<p>1000 rows × 8 columns</p>\n",
       "</div>"
      ],
      "text/plain": [
       "     gender race/ethnicity parental level of education         lunch  \\\n",
       "0    female        group D                some college      standard   \n",
       "1      male        group D          associate's degree      standard   \n",
       "2    female        group D                some college  free/reduced   \n",
       "3      male        group B                some college  free/reduced   \n",
       "4    female        group D          associate's degree      standard   \n",
       "..      ...            ...                         ...           ...   \n",
       "995    male        group C                some college      standard   \n",
       "996    male        group C                some college      standard   \n",
       "997  female        group A                 high school      standard   \n",
       "998    male        group E                 high school      standard   \n",
       "999    male        group D                 high school      standard   \n",
       "\n",
       "    test preparation course  math score  reading score  writing score  \n",
       "0                 completed          59             70             78  \n",
       "1                      none          96             93             87  \n",
       "2                      none          57             76             77  \n",
       "3                      none          70             70             63  \n",
       "4                      none          83             85             86  \n",
       "..                      ...         ...            ...            ...  \n",
       "995                    none          77             77             71  \n",
       "996                    none          80             66             66  \n",
       "997               completed          67             86             86  \n",
       "998                    none          80             72             62  \n",
       "999                    none          58             47             45  \n",
       "\n",
       "[1000 rows x 8 columns]"
      ]
     },
     "execution_count": 19,
     "metadata": {},
     "output_type": "execute_result"
    }
   ],
   "source": [
    "data"
   ]
  },
  {
   "cell_type": "code",
   "execution_count": 20,
   "id": "e5517d05",
   "metadata": {},
   "outputs": [
    {
     "name": "stdout",
     "output_type": "stream",
     "text": [
      "Назви колонок: Index(['gender', 'race/ethnicity', 'parental level of education', 'lunch',\n",
      "       'test preparation course', 'math score', 'reading score',\n",
      "       'writing score'],\n",
      "      dtype='object')\n",
      "Розмір датасету: (1000, 8)\n"
     ]
    }
   ],
   "source": [
    "print(\"Назви колонок:\", data.columns)\n",
    "print(\"Розмір датасету:\", data.shape)"
   ]
  },
  {
   "cell_type": "code",
   "execution_count": 21,
   "id": "05a4d5b2",
   "metadata": {
    "scrolled": true
   },
   "outputs": [
    {
     "name": "stdout",
     "output_type": "stream",
     "text": [
      "Кількість пропусків у кожній колонці:\n",
      " gender                         0\n",
      "race/ethnicity                 0\n",
      "parental level of education    0\n",
      "lunch                          0\n",
      "test preparation course        0\n",
      "math score                     0\n",
      "reading score                  0\n",
      "writing score                  0\n",
      "dtype: int64\n"
     ]
    }
   ],
   "source": [
    "print(\"Кількість пропусків у кожній колонці:\\n\", data.isnull().sum())"
   ]
  },
  {
   "cell_type": "code",
   "execution_count": 23,
   "id": "7be3c038",
   "metadata": {},
   "outputs": [
    {
     "name": "stdout",
     "output_type": "stream",
     "text": [
      "   gender  race/ethnicity  parental level of education  lunch  \\\n",
      "0       0               3                            4      1   \n",
      "1       1               3                            0      1   \n",
      "2       0               3                            4      0   \n",
      "3       1               1                            4      0   \n",
      "4       0               3                            0      1   \n",
      "\n",
      "   test preparation course  math score  reading score  writing score  \n",
      "0                        0          59             70             78  \n",
      "1                        1          96             93             87  \n",
      "2                        1          57             76             77  \n",
      "3                        1          70             70             63  \n",
      "4                        1          83             85             86  \n"
     ]
    }
   ],
   "source": [
    "from sklearn.preprocessing import LabelEncoder\n",
    "\n",
    "label_encoder = LabelEncoder()\n",
    "categorical_columns = ['gender', 'race/ethnicity', 'parental level of education', 'lunch', 'test preparation course']\n",
    "\n",
    "for col in categorical_columns:\n",
    "    data[col] = label_encoder.fit_transform(data[col])\n",
    "\n",
    "print(data.head())"
   ]
  },
  {
   "cell_type": "code",
   "execution_count": 29,
   "id": "a5135e6a",
   "metadata": {},
   "outputs": [
    {
     "data": {
      "image/png": "[encoded data removed]",
      "text/plain": [
       "<Figure size 720x432 with 2 Axes>"
      ]
     },
     "metadata": {
      "needs_background": "light"
     },
     "output_type": "display_data"
    },
    {
     "data": {
      "image/png": "[encoded data removed]",
      "text/plain": [
       "<Figure size 720x432 with 9 Axes>"
      ]
     },
     "metadata": {
      "needs_background": "light"
     },
     "output_type": "display_data"
    }
   ],
   "source": [
    "# Heatmap кореляції\n",
    "plt.figure(figsize=(10, 6))\n",
    "sns.heatmap(data.corr(), annot=True, cmap='coolwarm')\n",
    "plt.title('Кореляція ознак')\n",
    "plt.show()\n",
    "\n",
    "# Побудова гістограм\n",
    "data.hist(bins=10, figsize=(10, 6))\n",
    "plt.show()\n"
   ]
  },
  {
   "cell_type": "code",
   "execution_count": 55,
   "id": "25a006a5",
   "metadata": {},
   "outputs": [
    {
     "data": {
      "image/png": "[encoded data removed]",
      "text/plain": [
       "<Figure size 720x432 with 1 Axes>"
      ]
     },
     "metadata": {
      "needs_background": "light"
     },
     "output_type": "display_data"
    }
   ],
   "source": [
    "plt.figure(figsize=(10, 6))\n",
    "sns.boxplot(x='gender', y='math score', data=data)\n",
    "plt.title('Boxplot для Math Score відносно Race/Ethnicity')\n",
    "plt.show()"
   ]
  },
  {
   "cell_type": "code",
   "execution_count": 54,
   "id": "6dfd1e9a",
   "metadata": {},
   "outputs": [
    {
     "data": {
      "image/png": "[encoded data removed]",
      "text/plain": [
       "<Figure size 720x432 with 1 Axes>"
      ]
     },
     "metadata": {
      "needs_background": "light"
     },
     "output_type": "display_data"
    }
   ],
   "source": [
    "plt.figure(figsize=(10, 6))\n",
    "sns.boxplot(x='gender', y='reading score', data=data)\n",
    "plt.title('Boxplot для Reading Score відносно Race/Ethnicity')\n",
    "plt.show()"
   ]
  },
  {
   "cell_type": "code",
   "execution_count": 53,
   "id": "d54548d9",
   "metadata": {},
   "outputs": [
    {
     "data": {
      "image/png": "[encoded data removed]",
      "text/plain": [
       "<Figure size 720x432 with 1 Axes>"
      ]
     },
     "metadata": {
      "needs_background": "light"
     },
     "output_type": "display_data"
    }
   ],
   "source": [
    "plt.figure(figsize=(10, 6))\n",
    "sns.boxplot(x='gender', y='writing score', data=data)\n",
    "plt.title('Boxplot для Writing Score відносно Race/Ethnicity')\n",
    "plt.show()"
   ]
  },
  {
   "cell_type": "code",
   "execution_count": 30,
   "id": "a83b4ef3",
   "metadata": {},
   "outputs": [],
   "source": [
    "scaler = StandardScaler()\n",
    "numeric_columns = ['math score', 'reading score', 'writing score']\n",
    "data[numeric_columns] = scaler.fit_transform(data[numeric_columns])"
   ]
  },
  {
   "cell_type": "code",
   "execution_count": 43,
   "id": "5f9ce6d3",
   "metadata": {},
   "outputs": [
    {
     "data": {
      "text/plain": [
       "0     79\n",
       "1    198\n",
       "2    323\n",
       "3    257\n",
       "4    143\n",
       "Name: race/ethnicity, dtype: int64"
      ]
     },
     "execution_count": 43,
     "metadata": {},
     "output_type": "execute_result"
    }
   ],
   "source": [
    "class_counts = data['race/ethnicity'].value_counts().sort_index()\n",
    "class_counts"
   ]
  },
  {
   "cell_type": "code",
   "execution_count": 42,
   "id": "1fef92b6",
   "metadata": {},
   "outputs": [],
   "source": [
    "from imblearn.over_sampling import SMOTE"
   ]
  },
  {
   "cell_type": "code",
   "execution_count": 49,
   "id": "0ba2c385",
   "metadata": {},
   "outputs": [
    {
     "name": "stdout",
     "output_type": "stream",
     "text": [
      "\n",
      "\n",
      "Навчання моделі: kNN\n",
      "\n",
      "Результати для моделі: kNN\n",
      "Classification Report:\n",
      "              precision    recall  f1-score   support\n",
      "\n",
      "           0       0.79      0.75      0.77        95\n",
      "           1       0.78      0.82      0.80       105\n",
      "\n",
      "    accuracy                           0.79       200\n",
      "   macro avg       0.79      0.78      0.78       200\n",
      "weighted avg       0.79      0.79      0.78       200\n",
      "\n",
      "\n",
      "Confusion Matrix:\n",
      "[[71 24]\n",
      " [19 86]]\n",
      "\n",
      "\n",
      "Навчання моделі: Decision Tree\n",
      "\n",
      "Результати для моделі: Decision Tree\n",
      "Classification Report:\n",
      "              precision    recall  f1-score   support\n",
      "\n",
      "           0       0.84      0.80      0.82        95\n",
      "           1       0.83      0.86      0.84       105\n",
      "\n",
      "    accuracy                           0.83       200\n",
      "   macro avg       0.83      0.83      0.83       200\n",
      "weighted avg       0.83      0.83      0.83       200\n",
      "\n",
      "\n",
      "Confusion Matrix:\n",
      "[[76 19]\n",
      " [15 90]]\n",
      "\n",
      "\n",
      "Навчання моделі: SVM\n",
      "\n",
      "Результати для моделі: SVM\n",
      "Classification Report:\n",
      "              precision    recall  f1-score   support\n",
      "\n",
      "           0       0.91      0.96      0.93        95\n",
      "           1       0.96      0.91      0.94       105\n",
      "\n",
      "    accuracy                           0.94       200\n",
      "   macro avg       0.94      0.94      0.93       200\n",
      "weighted avg       0.94      0.94      0.94       200\n",
      "\n",
      "\n",
      "Confusion Matrix:\n",
      "[[91  4]\n",
      " [ 9 96]]\n",
      "\n",
      "\n",
      "Навчання моделі: Random Forest\n",
      "\n",
      "Результати для моделі: Random Forest\n",
      "Classification Report:\n",
      "              precision    recall  f1-score   support\n",
      "\n",
      "           0       0.89      0.92      0.90        95\n",
      "           1       0.92      0.90      0.91       105\n",
      "\n",
      "    accuracy                           0.91       200\n",
      "   macro avg       0.90      0.91      0.90       200\n",
      "weighted avg       0.91      0.91      0.91       200\n",
      "\n",
      "\n",
      "Confusion Matrix:\n",
      "[[87  8]\n",
      " [11 94]]\n",
      "\n",
      "\n",
      "Навчання моделі: AdaBoost\n",
      "\n",
      "Результати для моделі: AdaBoost\n",
      "Classification Report:\n",
      "              precision    recall  f1-score   support\n",
      "\n",
      "           0       0.90      0.94      0.92        95\n",
      "           1       0.94      0.90      0.92       105\n",
      "\n",
      "    accuracy                           0.92       200\n",
      "   macro avg       0.92      0.92      0.92       200\n",
      "weighted avg       0.92      0.92      0.92       200\n",
      "\n",
      "\n",
      "Confusion Matrix:\n",
      "[[89  6]\n",
      " [10 95]]\n",
      "\n",
      "Усі моделі завершили навчання та оцінку.\n"
     ]
    }
   ],
   "source": [
    "X = data.drop(columns=['gender']) \n",
    "y = data['gender']\n",
    "\n",
    "X_train, X_test, y_train, y_test = train_test_split(X, y, test_size=0.2, random_state=42)\n",
    "\n",
    "\n",
    "\n",
    "models = {\n",
    "    \"kNN\": KNeighborsClassifier(),\n",
    "    \"Decision Tree\": DecisionTreeClassifier(),\n",
    "    \"SVM\": SVC(),\n",
    "    \"Random Forest\": RandomForestClassifier(),\n",
    "    \"AdaBoost\": AdaBoostClassifier()\n",
    "}\n",
    "\n",
    "\n",
    "results = {}\n",
    "\n",
    "for name, model in models.items():\n",
    "    print(f\"\\n\\nНавчання моделі: {name}\")\n",
    "    model.fit(X_train, y_train)\n",
    "    y_pred = model.predict(X_test)\n",
    "    \n",
    "    \n",
    "    results[name] = {\n",
    "        \"classification_report\": classification_report(y_test, y_pred),\n",
    "        \"confusion_matrix\": confusion_matrix(y_test, y_pred)\n",
    "    }\n",
    "    \n",
    "    # Виведення метрик\n",
    "    print(f\"\\nРезультати для моделі: {name}\")\n",
    "    print(\"Classification Report:\")\n",
    "    print(results[name]['classification_report'])\n",
    "    \n",
    "    print(\"\\nConfusion Matrix:\")\n",
    "    print(results[name]['confusion_matrix'])\n",
    "\n",
    "print(\"\\nУсі моделі завершили навчання та оцінку.\")"
   ]
  },
  {
   "cell_type": "code",
   "execution_count": 50,
   "id": "627a3499",
   "metadata": {},
   "outputs": [
    {
     "name": "stdout",
     "output_type": "stream",
     "text": [
      "Найкращі параметри для kNN: {'n_neighbors': 9}\n"
     ]
    }
   ],
   "source": [
    "param_grid = {'n_neighbors': [3, 5, 7, 9]}\n",
    "grid_search = GridSearchCV(KNeighborsClassifier(), param_grid, cv=5)\n",
    "grid_search.fit(X_train, y_train)\n",
    "\n",
    "print(\"Найкращі параметри для kNN:\", grid_search.best_params_)"
   ]
  },
  {
   "cell_type": "code",
   "execution_count": 51,
   "id": "284a272d",
   "metadata": {},
   "outputs": [
    {
     "name": "stdout",
     "output_type": "stream",
     "text": [
      "Найкращі параметри для SVM: {'C': 10, 'gamma': 0.01}\n"
     ]
    }
   ],
   "source": [
    "param_grid = {'C': [0.1, 1, 10], 'gamma': [1, 0.1, 0.01]}\n",
    "grid_search = GridSearchCV(SVC(), param_grid, cv=5)\n",
    "grid_search.fit(X_train, y_train)\n",
    "\n",
    "print(\"Найкращі параметри для SVM:\", grid_search.best_params_)"
   ]
  },
  {
   "cell_type": "code",
   "execution_count": 52,
   "id": "ae595dd2",
   "metadata": {},
   "outputs": [
    {
     "name": "stdout",
     "output_type": "stream",
     "text": [
      "Результати для моделі: kNN\n",
      "Classification Report:\n",
      "               precision    recall  f1-score   support\n",
      "\n",
      "           0       0.79      0.75      0.77        95\n",
      "           1       0.78      0.82      0.80       105\n",
      "\n",
      "    accuracy                           0.79       200\n",
      "   macro avg       0.79      0.78      0.78       200\n",
      "weighted avg       0.79      0.79      0.78       200\n",
      "\n",
      "Confusion Matrix:\n",
      " [[71 24]\n",
      " [19 86]]\n",
      "------------------------------\n",
      "Результати для моделі: Decision Tree\n",
      "Classification Report:\n",
      "               precision    recall  f1-score   support\n",
      "\n",
      "           0       0.84      0.80      0.82        95\n",
      "           1       0.83      0.86      0.84       105\n",
      "\n",
      "    accuracy                           0.83       200\n",
      "   macro avg       0.83      0.83      0.83       200\n",
      "weighted avg       0.83      0.83      0.83       200\n",
      "\n",
      "Confusion Matrix:\n",
      " [[76 19]\n",
      " [15 90]]\n",
      "------------------------------\n",
      "Результати для моделі: SVM\n",
      "Classification Report:\n",
      "               precision    recall  f1-score   support\n",
      "\n",
      "           0       0.91      0.96      0.93        95\n",
      "           1       0.96      0.91      0.94       105\n",
      "\n",
      "    accuracy                           0.94       200\n",
      "   macro avg       0.94      0.94      0.93       200\n",
      "weighted avg       0.94      0.94      0.94       200\n",
      "\n",
      "Confusion Matrix:\n",
      " [[91  4]\n",
      " [ 9 96]]\n",
      "------------------------------\n",
      "Результати для моделі: Random Forest\n",
      "Classification Report:\n",
      "               precision    recall  f1-score   support\n",
      "\n",
      "           0       0.89      0.92      0.90        95\n",
      "           1       0.92      0.90      0.91       105\n",
      "\n",
      "    accuracy                           0.91       200\n",
      "   macro avg       0.90      0.91      0.90       200\n",
      "weighted avg       0.91      0.91      0.91       200\n",
      "\n",
      "Confusion Matrix:\n",
      " [[87  8]\n",
      " [11 94]]\n",
      "------------------------------\n",
      "Результати для моделі: AdaBoost\n",
      "Classification Report:\n",
      "               precision    recall  f1-score   support\n",
      "\n",
      "           0       0.90      0.94      0.92        95\n",
      "           1       0.94      0.90      0.92       105\n",
      "\n",
      "    accuracy                           0.92       200\n",
      "   macro avg       0.92      0.92      0.92       200\n",
      "weighted avg       0.92      0.92      0.92       200\n",
      "\n",
      "Confusion Matrix:\n",
      " [[89  6]\n",
      " [10 95]]\n",
      "------------------------------\n"
     ]
    }
   ],
   "source": [
    "for name, result in results.items():\n",
    "    print(f\"Результати для моделі: {name}\")\n",
    "    print(\"Classification Report:\\n\", result[\"classification_report\"])\n",
    "    print(\"Confusion Matrix:\\n\", result[\"confusion_matrix\"])\n",
    "    print(\"-\" * 30)"
   ]
  },
  {
   "cell_type": "code",
   "execution_count": null,
   "id": "8c9a1acb",
   "metadata": {},
   "outputs": [],
   "source": []
  }
 ],
 "metadata": {
  "kernelspec": {
   "display_name": "Python 3 (ipykernel)",
   "language": "python",
   "name": "python3"
  },
  "language_info": {
   "codemirror_mode": {
    "name": "ipython",
    "version": 3
   },
   "file_extension": ".py",
   "mimetype": "text/x-python",
   "name": "python",
   "nbconvert_exporter": "python",
   "pygments_lexer": "ipython3",
   "version": "3.9.7"
  }
 },
 "nbformat": 4,
 "nbformat_minor": 5
}
